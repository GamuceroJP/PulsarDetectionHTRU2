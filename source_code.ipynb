{
 "cells": [
  {
   "cell_type": "markdown",
   "metadata": {
    "id": "Uz097bPmNkL0"
   },
   "source": [
    "# Clasificador de Pulsares"
   ]
  },
  {
   "cell_type": "code",
   "execution_count": null,
   "metadata": {},
   "outputs": [],
   "source": [
    "import seaborn as sns\n",
    "\n",
    "from src.common import *\n",
    "\n",
    "%matplotlib inline"
   ]
  },
  {
   "cell_type": "markdown",
   "metadata": {},
   "source": [
    "# Exploratory Data Analysis"
   ]
  },
  {
   "cell_type": "markdown",
   "metadata": {},
   "source": [
    "Data load and feature naming"
   ]
  },
  {
   "cell_type": "code",
   "execution_count": null,
   "metadata": {},
   "outputs": [],
   "source": [
    "filename = \"https://raw.githubusercontent.com/charitarthchugh/PulsarIdentification/master/HTRU_2.csv\"\n",
    "features = [\n",
    "    \"Mean of the integrated profile\",\n",
    "    \"Standard deviation of the integrated profile\",\n",
    "    \"Excess kurtosis of the integrated profile\",\n",
    "    \"Skewness of the integrated profile\",\n",
    "    \"Mean of the DM-SNR curve\",\n",
    "    \"Standard deviation of the DM-SNR curve\",\n",
    "    \"Excess kurtosis of the DM-SNR curve\",\n",
    "    \"Skewness of the DM-SNR curve\"\n",
    "]\n",
    "target = \"target_class\""
   ]
  },
  {
   "cell_type": "code",
   "execution_count": null,
   "metadata": {},
   "outputs": [],
   "source": [
    "df = pd.read_csv(\n",
    "    filename,\n",
    "    names=features+[target]\n",
    ")"
   ]
  },
  {
   "cell_type": "code",
   "execution_count": null,
   "metadata": {},
   "outputs": [],
   "source": [
    "df.info()"
   ]
  },
  {
   "cell_type": "code",
   "execution_count": null,
   "metadata": {
    "colab": {
     "base_uri": "https://localhost:8080/",
     "height": 241
    },
    "id": "bOJfeVJDNm0b",
    "outputId": "c04fa3c7-ae8d-4550-fe8e-93ca7c75c0fa"
   },
   "outputs": [],
   "source": [
    "df"
   ]
  },
  {
   "cell_type": "code",
   "execution_count": null,
   "metadata": {
    "colab": {
     "base_uri": "https://localhost:8080/",
     "height": 352
    },
    "id": "7itNFQOyN6L-",
    "outputId": "51b6a3dc-634e-4ce1-90d7-fc2328a2dcf5"
   },
   "outputs": [],
   "source": [
    "df.describe()"
   ]
  },
  {
   "cell_type": "markdown",
   "metadata": {
    "id": "9s3tmZRQhWV-"
   },
   "source": [
    "### Features distribution and correlations"
   ]
  },
  {
   "cell_type": "code",
   "execution_count": null,
   "metadata": {
    "colab": {
     "base_uri": "https://localhost:8080/"
    },
    "id": "Gm_sA-pLoKmA",
    "outputId": "ac9f5132-a899-4ade-f1f3-fddc1d3e435d"
   },
   "outputs": [],
   "source": [
    "df[\"target_class\"].value_counts()"
   ]
  },
  {
   "cell_type": "code",
   "execution_count": null,
   "metadata": {},
   "outputs": [],
   "source": [
    "df[\"target_class\"].value_counts(normalize=True)*100"
   ]
  },
  {
   "cell_type": "code",
   "execution_count": null,
   "metadata": {},
   "outputs": [],
   "source": [
    "sns.pairplot(\n",
    "    data = df,\n",
    "    hue = \"target_class\",\n",
    "    corner = True\n",
    ");"
   ]
  },
  {
   "cell_type": "code",
   "execution_count": null,
   "metadata": {},
   "outputs": [],
   "source": [
    "# Compute the correlation matrix\n",
    "corr = df[features].corr()\n",
    "\n",
    "# Generate a mask for the upper triangle\n",
    "mask = np.triu(np.ones_like(corr, dtype=bool))\n",
    "\n",
    "# Set up the matplotlib figure\n",
    "f, ax = plt.subplots(figsize=(11, 9))\n",
    "\n",
    "# Draw the heatmap with the mask and correct aspect ratio\n",
    "sns.heatmap(corr,\n",
    "    mask=mask, \n",
    "    square=True,\n",
    "    linewidths=.5,\n",
    "    cbar_kws={\"shrink\": .5}\n",
    ")"
   ]
  },
  {
   "cell_type": "code",
   "execution_count": null,
   "metadata": {},
   "outputs": [],
   "source": [
    "corr"
   ]
  },
  {
   "cell_type": "code",
   "execution_count": null,
   "metadata": {},
   "outputs": [],
   "source": [
    "# feature selection\n",
    "features = [\n",
    "    \"Mean of the integrated profile\",\n",
    "    \"Standard deviation of the integrated profile\",\n",
    "    #\"Excess kurtosis of the integrated profile\",\n",
    "    \"Excess kurtosis of the integrated profile\",\n",
    "    \"Skewness of the integrated profile\",\n",
    "    \"Mean of the DM-SNR curve\",\n",
    "    \"Standard deviation of the DM-SNR curve\",\n",
    "    #\"Excess kurtosis of the DM-SNR curve\",\n",
    "    \"Excess kurtosis of the DM-SNR curve\",\n",
    "    \"Skewness of the DM-SNR curve\"\n",
    "]\n",
    "\n",
    "df = df[features+[target]]\n",
    "df"
   ]
  },
  {
   "cell_type": "code",
   "execution_count": null,
   "metadata": {},
   "outputs": [],
   "source": [
    "# Transformation to features\n",
    "df = feature_standardization(original_df = df, features=features, target=target)"
   ]
  },
  {
   "cell_type": "code",
   "execution_count": null,
   "metadata": {},
   "outputs": [],
   "source": [
    "df"
   ]
  },
  {
   "cell_type": "markdown",
   "metadata": {},
   "source": [
    "#### Dimensionallity reduction visualization"
   ]
  },
  {
   "cell_type": "code",
   "execution_count": null,
   "metadata": {},
   "outputs": [],
   "source": [
    "X = df.drop(columns=[\"target_class\"])\n",
    "y = df[\"target_class\"]\n",
    "\n",
    "# Standardize features\n",
    "scaler = StandardScaler()\n",
    "X_scaled = scaler.fit_transform(X)\n",
    "\n",
    "# Apply PCA to reduce to 2 components\n",
    "pca = PCA(n_components=2)\n",
    "X_pca = pca.fit_transform(X_scaled)\n",
    "\n",
    "# Plot the PCA-reduced data\n",
    "plt.figure(figsize=(8, 6))\n",
    "scatter = plt.scatter(X_pca[:, 0], X_pca[:, 1], c=y, cmap='tab10', alpha=0.7)\n",
    "plt.xlabel('PCA Component 1')\n",
    "plt.ylabel('PCA Component 2')\n",
    "plt.title('2D PCA Projection of Clusters')\n",
    "plt.legend(*scatter.legend_elements(), title=\"Target\")\n",
    "plt.grid(True)\n",
    "plt.tight_layout()\n",
    "plt.show()\n"
   ]
  },
  {
   "cell_type": "markdown",
   "metadata": {
    "id": "IbSaZJkUkz7u"
   },
   "source": [
    "### Pytorch dataset creation"
   ]
  },
  {
   "cell_type": "code",
   "execution_count": null,
   "metadata": {
    "id": "dNObi1X8Jm6w"
   },
   "outputs": [],
   "source": [
    "# To numpy arrays\n",
    "inputs_df = df.drop(\"target_class\",axis=1)\n",
    "inputs_arr = inputs_df.to_numpy() \n",
    "targets_df = df[\"target_class\"] \n",
    "targets_arr = targets_df.to_numpy()\n",
    "# To torch tensors\n",
    "inputs=torch.from_numpy(inputs_arr).type(torch.float64)\n",
    "targets=torch.from_numpy(targets_arr).type(torch.long)\n",
    "inputs.shape, targets.shape"
   ]
  },
  {
   "cell_type": "code",
   "execution_count": null,
   "metadata": {
    "id": "a4AaLUL-P6d9"
   },
   "outputs": [],
   "source": [
    "dataset=TensorDataset(inputs, targets)"
   ]
  },
  {
   "cell_type": "markdown",
   "metadata": {
    "id": "QkmRtPcsm92R"
   },
   "source": [
    "### Train, validation, test split"
   ]
  },
  {
   "cell_type": "code",
   "execution_count": null,
   "metadata": {
    "id": "2aHvDSqdP-iE"
   },
   "outputs": [],
   "source": [
    "num_rows=df.shape[0]\n",
    "val_percent = 0.1 #Porcentaje de validaicón\n",
    "test_percent = 0.1 #Porcentaje de test\n",
    "val_size = int(num_rows*val_percent)\n",
    "test_size = int(num_rows*test_percent)\n",
    "train_size = num_rows - val_size-test_size"
   ]
  },
  {
   "cell_type": "code",
   "execution_count": null,
   "metadata": {
    "colab": {
     "base_uri": "https://localhost:8080/"
    },
    "id": "_JnxQBJAQCQ0",
    "outputId": "fcdb265a-ca5f-4eca-8b60-6505fb86bcba"
   },
   "outputs": [],
   "source": [
    "torch.manual_seed(2)#Nos aseguramos de que consigamos la misma validación cada vez.\n",
    "train_ds, val_ds, test_ds = random_split(dataset, (train_size, val_size, test_size))\n",
    "print(\"Muestras de entrenamiento: \",len(train_ds))\n",
    "print(\"Muestras de validation:\", len(val_ds))\n",
    "print(\"Muestras test: \",len(test_ds))"
   ]
  },
  {
   "cell_type": "code",
   "execution_count": null,
   "metadata": {
    "id": "6TXs5Q4fQFE0"
   },
   "outputs": [],
   "source": [
    "batch_size=256"
   ]
  },
  {
   "cell_type": "code",
   "execution_count": null,
   "metadata": {
    "id": "rE-lITrDQIOq"
   },
   "outputs": [],
   "source": [
    "# PyTorch data loaders\n",
    "train_dl = DataLoader(train_ds, batch_size, num_workers=3, pin_memory=True)\n",
    "val_dl = DataLoader(val_ds, batch_size, num_workers=3, pin_memory=True)\n",
    "test_dl = DataLoader(test_ds, batch_size, num_workers=3, pin_memory=True)"
   ]
  },
  {
   "cell_type": "markdown",
   "metadata": {
    "id": "nei0JkEQAU1O"
   },
   "source": [
    "GPU/CPU Configuration"
   ]
  },
  {
   "cell_type": "code",
   "execution_count": null,
   "metadata": {
    "colab": {
     "base_uri": "https://localhost:8080/"
    },
    "id": "aGQIHI7fQSBO",
    "outputId": "8f76f219-1d4d-4549-e430-9ec23d3d8619"
   },
   "outputs": [],
   "source": [
    "# corroboramos el dispositivo\n",
    "device=get_default_device()\n",
    "device"
   ]
  },
  {
   "cell_type": "code",
   "execution_count": null,
   "metadata": {
    "id": "x1TOfel-QVnR"
   },
   "outputs": [],
   "source": [
    "train_dl = DeviceDataLoader(train_dl, device)\n",
    "val_dl = DeviceDataLoader(val_dl, device)\n",
    "test_dl = DeviceDataLoader(test_dl, device)"
   ]
  },
  {
   "cell_type": "markdown",
   "metadata": {
    "id": "PzVwBI0PIGqs"
   },
   "source": [
    "## NN architecture visualization"
   ]
  },
  {
   "cell_type": "code",
   "execution_count": null,
   "metadata": {
    "colab": {
     "base_uri": "https://localhost:8080/",
     "height": 356
    },
    "id": "P3Bcs8DrIhE1",
    "outputId": "229877fd-7b7f-43c1-f85f-d1ab09dd144a"
   },
   "outputs": [],
   "source": [
    "layers = [inputs_df.shape[1], 16, 16, 2]\n",
    "net = Network(layers)\n",
    "net.graph(layers)"
   ]
  },
  {
   "cell_type": "markdown",
   "metadata": {
    "id": "2BGrC1wtAkKu"
   },
   "source": [
    "### Architecture definition in Pytorch"
   ]
  },
  {
   "cell_type": "code",
   "execution_count": null,
   "metadata": {
    "id": "nw_i2yvIQZ62"
   },
   "outputs": [],
   "source": [
    "class HTRU2Model(nn.Module):\n",
    "    def __init__(self,):\n",
    "        super(HTRU2Model,self).__init__()\n",
    "        self.layer1 = nn.Linear(8, 16)\n",
    "        self.layer2 = nn.Linear(16, 16)\n",
    "        self.layer3 = nn.Linear(16, 2)\n",
    "        self.softmax = nn.Softmax(dim=1)\n",
    "    def forward(self, x):\n",
    "        x = x.float()\n",
    "        x = self.layer1(x)\n",
    "        x = F.relu(x)\n",
    "        x = self.layer2(x)\n",
    "        x = F.relu(x)\n",
    "        x = self.layer3(x)\n",
    "        x = self.softmax(x)\n",
    "        return x\n",
    "    def training_step(self, batch):\n",
    "        inputs, targets = batch \n",
    "        out = self(inputs)                  # Generates predictions \n",
    "        loss = F.cross_entropy(out, targets) # Calculates loss\n",
    "        return loss\n",
    "\n",
    "    def predict_test(self, batch):\n",
    "        inputs, targets = batch \n",
    "        out = self(inputs)                  # Gets predictions \n",
    "        return out\n",
    "    \n",
    "    def validation_step(self, batch):\n",
    "        inputs, targets = batch \n",
    "        out = self(inputs)                    # Gets predictions\n",
    "        loss = F.cross_entropy(out, targets)   # Calculates loss\n",
    "        acc = accuracy(out, targets)           # Calculates accuracy\n",
    "        return {'val_loss': loss.detach(), 'val_acc': acc}\n",
    "        \n",
    "    def validation_epoch_end(self, outputs):\n",
    "        batch_losses = [x['val_loss'] for x in outputs]\n",
    "        epoch_loss = torch.stack(batch_losses).mean()   # Calculates cost\n",
    "        batch_accs = [x['val_acc'] for x in outputs]\n",
    "        epoch_acc = torch.stack(batch_accs).mean()      # Precision aggregation\n",
    "        return {'val_loss': epoch_loss.item(), 'val_acc': epoch_acc.item()}\n",
    "    \n",
    "    def epoch_end(self, epoch, result):\n",
    "        print(\"Epoch [{}], last_lr: {:.5f}, train_loss: {:.4f}, val_loss: {:.4f}, val_acc: {:.4f}\".format(\n",
    "            epoch, result['lrs'][-1], result['train_loss'], result['val_loss'], result['val_acc']))"
   ]
  },
  {
   "cell_type": "code",
   "execution_count": null,
   "metadata": {
    "id": "mj-1AEtHQdVg"
   },
   "outputs": [],
   "source": [
    "model = to_device(HTRU2Model(), device)"
   ]
  },
  {
   "cell_type": "code",
   "execution_count": null,
   "metadata": {
    "colab": {
     "base_uri": "https://localhost:8080/"
    },
    "id": "5rsjifQn2a-J",
    "outputId": "d028f077-4af4-4d93-ea54-97f43a00fc2e"
   },
   "outputs": [],
   "source": [
    "summary(model, (1,8))"
   ]
  },
  {
   "cell_type": "markdown",
   "metadata": {
    "id": "IhSUMtoyA12O"
   },
   "source": [
    "### Model initialization"
   ]
  },
  {
   "cell_type": "code",
   "execution_count": null,
   "metadata": {
    "colab": {
     "base_uri": "https://localhost:8080/"
    },
    "id": "GT0HYDtUQmdg",
    "outputId": "0ec431e5-7e7e-45ed-8a11-e0305c0fef0e"
   },
   "outputs": [],
   "source": [
    "history = [evaluate(model, val_dl)]\n",
    "history"
   ]
  },
  {
   "cell_type": "markdown",
   "metadata": {
    "id": "Wxc8_oLvA9Hf"
   },
   "source": [
    "### Hyperparameters"
   ]
  },
  {
   "cell_type": "code",
   "execution_count": null,
   "metadata": {
    "id": "M_F9WO-LQpLn"
   },
   "outputs": [],
   "source": [
    "epochs = 10\n",
    "max_lr = 0.01\n",
    "grad_clip = 0.1\n",
    "weight_decay = 1e-4\n",
    "opt_func = torch.optim.Adam"
   ]
  },
  {
   "cell_type": "markdown",
   "metadata": {
    "id": "bWh2ROy7BA9S"
   },
   "source": [
    "### Training"
   ]
  },
  {
   "cell_type": "code",
   "execution_count": null,
   "metadata": {
    "colab": {
     "base_uri": "https://localhost:8080/",
     "height": 741,
     "referenced_widgets": [
      "8f5e37103b754698829a7f7a3520cb4d",
      "b991e3047eda46768680fd21c9bfe4ed",
      "04568b14e3a7492eaeeedd284c785f90",
      "94d5e1ac777f4828b31a5b66f5c92306",
      "03dffe5eba1b4e039fe93112f4dbdcb4",
      "981fb75c53454d43a6fbb1a972653c4d",
      "b03473d1f2b54c138e483fb27d0b62f1",
      "f6fcf5b4dfd3496f97e0087129e5742e",
      "e494211e90c04886a7fdaf509357bcdf",
      "a6f476fe6f484945993e043e4a2d5ec0",
      "3231092097f446e2baad4034ff55fc6f",
      "cc9a3f9a9be44fa0a571e45861f2d06d",
      "0710c9b1075d454b9c29940e6feeaa9b",
      "953144b04a5f40f2a37828089b22db07",
      "c335ecad578545f19a70dee6711200f9",
      "4fa981be77aa4bfab853f42dc9690c3a",
      "2f79d13fd5f441c082006e7ac97cd723",
      "98e39b5f5dbd4e36bc38d859a65ca0a6",
      "3486edac130b4a048b1364e841d0659d",
      "b279f3ddb7bf44b98179663f3a8e2fd4",
      "5e86854ec2b74b1e821e1d9d1577ad65",
      "8bd725c44aa34ff8bef16f2d1f3d97bf",
      "663727d070e047b6bb71a9ecec6b84ae",
      "327013817d50443091becd5a83f73ee1",
      "e034f682fc274142a2581fdb91af2c36",
      "7f4c3624777b4a599cc5ba7038d0a4c5",
      "510883082a0f4187ad1b659fd02c8109",
      "f19657566d2c452da1cc631e75566b63",
      "6c59fef7d2c847f58371670f51d060b2",
      "879a18c9416e4a3cb164b84b6eb0cdba",
      "80f59908a7be4af497d08ec4666e325e",
      "d12db77dd7804158a37af84ac3fb4809",
      "545469f2975e423c9831c01fa230d9d0",
      "f35a37e408634c659230807a72f1cb28",
      "3a41042764a2446d93f6b7edc9b0d201",
      "67aceebf8dbf448983053d247440f848",
      "58de775466cb48c39835e55542093ab1",
      "841261b62d3842fa8fa5edd4d8d147a7",
      "ceb1f8fd44084df1b3b2d1c5f28338b6",
      "5de8d0ac69d743a39163063dcbce1b5a",
      "e812867cfb104e6ba1339ccdbe9fd1e5",
      "45652aa1ac754b99a37b2f6ebf31e306",
      "4e53ba302cca416db3e65e03417ec79e",
      "c678af7b8d124b1882a193c602e6d6cd",
      "47252d3d3dcb44f7a1f05e096393554a",
      "c848825cee384c69bd773b29b3bf150e",
      "4292d497db554df98f4b701783b5c3e6",
      "8faa35be148848bd8cf49dbaa390435d",
      "ffdb0118803c46bab2a5b73074adca90",
      "6f910f9e163e4010822a06739344b733",
      "be7907b7f0994b68baf71641fa6838eb",
      "6bf958c591034110a585fcc22ce7ab39",
      "be2f9f74a92b4f929f38257931aa6668",
      "2c20f0c2a06c46ee82b2f296c4bc6469",
      "bc113d3edb2049b1ba5db74bece343f1",
      "2a216f749a4a4ed58f5c3b856eddc74b",
      "30e4c12ceba7447892c35da9e30a2705",
      "749d333684594dc380e6dce78c6a2f8b",
      "1df70c737db948f098b8456b7d629687",
      "400b54c93eb84a0bb4608f3a633fe4d4",
      "f84f02dd0e0d40a483df1ea9948028bd",
      "31026989f0b749778bba1f75b0dc6be9",
      "556b6cb3d465446cb1ac75d7c9adda50",
      "651fbff8f93e4e128313bab24bc0260e",
      "2519965149fd4c3a8ee8631292be0f9d",
      "b5995fc6f9e04f8fbd938a04916e69a1",
      "998d0f614e0a4d178b0df526b09bcbd6",
      "0dc013b430a74aa19ae9a7735821079c",
      "512754a7440e42b98494b4fdc2ac6781",
      "cd8c4a9fe9f148c08854a1a11c31c422",
      "4f566c862e6141318d54e6b54acb79e9",
      "5b6530daffdc4d66adb526c57dfdc38e",
      "68e9adff610e47499ee1034b9372a767",
      "a28146c50a7b4b15a8f100013fd71bef",
      "7e36edd055774d75b0f58fafd92a963d",
      "cf155bf4f77f4eedb7495122d5628b1e",
      "a7226ef67d2848cfadfd7e8efa875fc4",
      "91982dff6c994d2fa998d398617c0ef2",
      "e136abde905c4d97944f6b5662e60736",
      "b62b3b37f7d54b32aea9f0ebe6d8d231"
     ]
    },
    "id": "wffQKwz7Qrx5",
    "outputId": "53a491f0-2475-4461-903e-ce274a5f8cc1"
   },
   "outputs": [],
   "source": [
    "%%time\n",
    "history += fit_one_cycle(epochs, max_lr, model, train_dl, val_dl, \n",
    "                             grad_clip=grad_clip, \n",
    "                             weight_decay=weight_decay, \n",
    "                             opt_func=opt_func)"
   ]
  },
  {
   "cell_type": "markdown",
   "metadata": {
    "id": "Dgw2_N9VBK11"
   },
   "source": [
    "### Precision and loss"
   ]
  },
  {
   "cell_type": "code",
   "execution_count": null,
   "metadata": {
    "colab": {
     "base_uri": "https://localhost:8080/",
     "height": 295
    },
    "id": "ctWel9oBQ5lQ",
    "outputId": "45a1d09c-0361-41ef-e574-5edb7e9cdaa7"
   },
   "outputs": [],
   "source": [
    "plot_losses(history)"
   ]
  },
  {
   "cell_type": "code",
   "execution_count": null,
   "metadata": {
    "colab": {
     "base_uri": "https://localhost:8080/",
     "height": 295
    },
    "id": "MR3b4ohjQ8iw",
    "outputId": "a8e1ea21-c0af-45f8-cd3c-0351a9b82373"
   },
   "outputs": [],
   "source": [
    "plot_accuracies(history)"
   ]
  },
  {
   "cell_type": "code",
   "execution_count": null,
   "metadata": {
    "colab": {
     "base_uri": "https://localhost:8080/",
     "height": 295
    },
    "id": "EAm48NDWQ_rB",
    "outputId": "cde37cb9-8ffc-453c-c805-14a701620b46"
   },
   "outputs": [],
   "source": [
    "plot_lrs(history)"
   ]
  },
  {
   "cell_type": "markdown",
   "metadata": {
    "id": "52qwslb8Ndsv"
   },
   "source": [
    "## Model evaluation in test set"
   ]
  },
  {
   "cell_type": "code",
   "execution_count": null,
   "metadata": {
    "colab": {
     "base_uri": "https://localhost:8080/"
    },
    "id": "HEK41R292LTK",
    "outputId": "fae03335-aae7-4e7c-90ff-eaf3fdc48aae"
   },
   "outputs": [],
   "source": [
    "evaluate(model, test_dl)"
   ]
  },
  {
   "cell_type": "code",
   "execution_count": null,
   "metadata": {
    "id": "DVRBzGaLQOK5"
   },
   "outputs": [],
   "source": [
    "# Unfolding batched predictions\n",
    "test_probability_predictions_batch = list()\n",
    "for batch in test_dl:\n",
    "  test_probability_predictions_batch.append((model.predict_test(batch)))\n",
    "#----------Empaquetamiento de predicciones-----------------------------------\n",
    "test_target_probabilities = []\n",
    "test_target_predictions = []\n",
    "for i in range(len(test_probability_predictions_batch)):\n",
    "  for j in range(len(test_probability_predictions_batch[i])):\n",
    "    test_target_probabilities.append(\n",
    "      (test_probability_predictions_batch[i][j].detach()).numpy()\n",
    "    )\n",
    "    test_target_predictions.append(\n",
    "      1 if (test_probability_predictions_batch[i][j].detach()).numpy()[1] >= 0.5 else 0 #If second element is higher than 0.5, it's a Pulsar\n",
    "    )\n",
    "\n",
    "test_target_probabilities = np.array(test_target_probabilities)\n",
    "test_target_predictions = np.array(test_target_predictions)"
   ]
  },
  {
   "cell_type": "code",
   "execution_count": null,
   "metadata": {},
   "outputs": [],
   "source": [
    "test_target_predictions"
   ]
  },
  {
   "cell_type": "code",
   "execution_count": null,
   "metadata": {
    "id": "3ED4W6jUQ1xY"
   },
   "outputs": [],
   "source": [
    "test_target_real = []\n",
    "for i in range(len(test_ds)):\n",
    "  test_target_real.append(np.squeeze(test_ds[i][1].numpy()))\n",
    "test_target_real = np.array(test_target_real)"
   ]
  },
  {
   "cell_type": "code",
   "execution_count": null,
   "metadata": {
    "colab": {
     "base_uri": "https://localhost:8080/"
    },
    "id": "TOfwIVieyN2U",
    "outputId": "9ce6a984-444c-40ff-99e9-02b5dff86149"
   },
   "outputs": [],
   "source": [
    "np.sum(test_target_predictions)"
   ]
  },
  {
   "cell_type": "code",
   "execution_count": null,
   "metadata": {
    "colab": {
     "base_uri": "https://localhost:8080/"
    },
    "id": "F-eAGjV-yf03",
    "outputId": "96c0076d-df55-4ff1-ae88-c234cb3e58ff"
   },
   "outputs": [],
   "source": [
    "np.sum(test_target_real)"
   ]
  },
  {
   "cell_type": "code",
   "execution_count": null,
   "metadata": {},
   "outputs": [],
   "source": [
    "proba_true_df = pd.DataFrame(test_target_probabilities, columns=[\"not_pulsar\", \"is_pulsar\"])\n",
    "proba_true_df[\"true\"] = test_target_real"
   ]
  },
  {
   "cell_type": "code",
   "execution_count": null,
   "metadata": {},
   "outputs": [],
   "source": [
    "fig, ax = plt.subplots(figsize=(6,4))\n",
    "sns.histplot(\n",
    "    proba_true_df,\n",
    "    x=\"is_pulsar\",\n",
    "    hue=\"true\",\n",
    "    bins=16,\n",
    "    kde=True,\n",
    "    stat=\"density\",\n",
    "    ax=ax\n",
    ")\n",
    "#ax.set_yscale(\"log\")"
   ]
  },
  {
   "cell_type": "code",
   "execution_count": null,
   "metadata": {
    "colab": {
     "base_uri": "https://localhost:8080/"
    },
    "id": "7KbQs4EDwswH",
    "outputId": "1a91f0c0-9a12-4889-d2bb-d79dee0027d7"
   },
   "outputs": [],
   "source": [
    "arr = confusion_matrix(test_target_real, test_target_predictions).T\n",
    "arr"
   ]
  },
  {
   "cell_type": "code",
   "execution_count": null,
   "metadata": {
    "colab": {
     "base_uri": "https://localhost:8080/"
    },
    "id": "_tIDojn-6LAj",
    "outputId": "df3f008a-8f61-4e74-8aef-433eba40bba4"
   },
   "outputs": [],
   "source": [
    "arr = confusion_matrix(test_target_real, test_target_predictions, normalize = 'true').T\n",
    "arr = 100*arr\n",
    "arr"
   ]
  },
  {
   "cell_type": "code",
   "execution_count": null,
   "metadata": {},
   "outputs": [],
   "source": [
    "df_cm = pd.DataFrame(\n",
    "    arr, \n",
    "    index = [\"Negative\",\"Positive\"],\n",
    "    columns = [\"Negative\",\"Positive\"]\n",
    ")"
   ]
  },
  {
   "cell_type": "code",
   "execution_count": null,
   "metadata": {},
   "outputs": [],
   "source": [
    "df_cm"
   ]
  },
  {
   "cell_type": "code",
   "execution_count": null,
   "metadata": {
    "colab": {
     "base_uri": "https://localhost:8080/",
     "height": 462
    },
    "id": "SisOzLf4voCx",
    "outputId": "69e21154-1ed4-47d2-ed89-f3fac3344d78"
   },
   "outputs": [],
   "source": [
    "plt.figure(figsize = (10,7))\n",
    "plt.rcParams.update({'font.size': 22})\n",
    "ax = sns.heatmap(df_cm, annot=True, fmt=\".1f\")\n",
    "ax.set(xlabel=r'Predicted', ylabel=r'Truth');"
   ]
  },
  {
   "cell_type": "code",
   "execution_count": null,
   "metadata": {},
   "outputs": [],
   "source": []
  }
 ],
 "metadata": {
  "colab": {
   "collapsed_sections": [],
   "name": "Pulsares.ipynb",
   "provenance": []
  },
  "kernelspec": {
   "display_name": "venv",
   "language": "python",
   "name": "python3"
  },
  "language_info": {
   "codemirror_mode": {
    "name": "ipython",
    "version": 3
   },
   "file_extension": ".py",
   "mimetype": "text/x-python",
   "name": "python",
   "nbconvert_exporter": "python",
   "pygments_lexer": "ipython3",
   "version": "3.11.2"
  }
 },
 "nbformat": 4,
 "nbformat_minor": 4
}
